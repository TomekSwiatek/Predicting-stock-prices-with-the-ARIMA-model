{
 "cells": [
  {
   "cell_type": "markdown",
   "metadata": {},
   "source": [
    "The project concerns Time-Series Forecasting. The aim of the project is to predict the stock price of the selected company using a forecasting ARIMA model (AutoRegressive Integrated Moving Average). <br>\n",
    "The NVIDIA stock price was analyzed in the project since 2015.<br>\n",
    "Based on data downloaded from the website finance.yahoo.com."
   ]
  },
  {
   "cell_type": "markdown",
   "metadata": {},
   "source": [
    "### Load library"
   ]
  },
  {
   "cell_type": "code",
   "execution_count": 1,
   "metadata": {},
   "outputs": [],
   "source": [
    "import numpy as np \n",
    "import pandas as pd \n",
    "import matplotlib.pyplot as plt\n",
    "from pandas.plotting import lag_plot\n",
    "from datetime import datetime\n",
    "from statsmodels.tsa.arima_model import ARIMA\n",
    "from sklearn.metrics import mean_squared_error\n"
   ]
  },
  {
   "cell_type": "markdown",
   "metadata": {},
   "source": [
    "### Upload data"
   ]
  },
  {
   "cell_type": "code",
   "execution_count": 2,
   "metadata": {},
   "outputs": [
    {
     "data": {
      "text/html": [
       "<div>\n",
       "<style scoped>\n",
       "    .dataframe tbody tr th:only-of-type {\n",
       "        vertical-align: middle;\n",
       "    }\n",
       "\n",
       "    .dataframe tbody tr th {\n",
       "        vertical-align: top;\n",
       "    }\n",
       "\n",
       "    .dataframe thead th {\n",
       "        text-align: right;\n",
       "    }\n",
       "</style>\n",
       "<table border=\"1\" class=\"dataframe\">\n",
       "  <thead>\n",
       "    <tr style=\"text-align: right;\">\n",
       "      <th></th>\n",
       "      <th>Date</th>\n",
       "      <th>Open</th>\n",
       "      <th>High</th>\n",
       "      <th>Low</th>\n",
       "      <th>Close</th>\n",
       "      <th>Adj Close</th>\n",
       "      <th>Volume</th>\n",
       "    </tr>\n",
       "  </thead>\n",
       "  <tbody>\n",
       "    <tr>\n",
       "      <th>0</th>\n",
       "      <td>2015-01-02</td>\n",
       "      <td>20.129999</td>\n",
       "      <td>20.280001</td>\n",
       "      <td>19.809999</td>\n",
       "      <td>20.129999</td>\n",
       "      <td>19.374790</td>\n",
       "      <td>2842000</td>\n",
       "    </tr>\n",
       "    <tr>\n",
       "      <th>1</th>\n",
       "      <td>2015-01-05</td>\n",
       "      <td>20.129999</td>\n",
       "      <td>20.190001</td>\n",
       "      <td>19.700001</td>\n",
       "      <td>19.790001</td>\n",
       "      <td>19.047548</td>\n",
       "      <td>4948800</td>\n",
       "    </tr>\n",
       "    <tr>\n",
       "      <th>2</th>\n",
       "      <td>2015-01-06</td>\n",
       "      <td>19.820000</td>\n",
       "      <td>19.840000</td>\n",
       "      <td>19.170000</td>\n",
       "      <td>19.190001</td>\n",
       "      <td>18.470057</td>\n",
       "      <td>4944100</td>\n",
       "    </tr>\n",
       "    <tr>\n",
       "      <th>3</th>\n",
       "      <td>2015-01-07</td>\n",
       "      <td>19.330000</td>\n",
       "      <td>19.500000</td>\n",
       "      <td>19.080000</td>\n",
       "      <td>19.139999</td>\n",
       "      <td>18.421932</td>\n",
       "      <td>8045200</td>\n",
       "    </tr>\n",
       "    <tr>\n",
       "      <th>4</th>\n",
       "      <td>2015-01-08</td>\n",
       "      <td>19.360001</td>\n",
       "      <td>19.980000</td>\n",
       "      <td>19.350000</td>\n",
       "      <td>19.860001</td>\n",
       "      <td>19.114916</td>\n",
       "      <td>7094500</td>\n",
       "    </tr>\n",
       "  </tbody>\n",
       "</table>\n",
       "</div>"
      ],
      "text/plain": [
       "         Date       Open       High        Low      Close  Adj Close   Volume\n",
       "0  2015-01-02  20.129999  20.280001  19.809999  20.129999  19.374790  2842000\n",
       "1  2015-01-05  20.129999  20.190001  19.700001  19.790001  19.047548  4948800\n",
       "2  2015-01-06  19.820000  19.840000  19.170000  19.190001  18.470057  4944100\n",
       "3  2015-01-07  19.330000  19.500000  19.080000  19.139999  18.421932  8045200\n",
       "4  2015-01-08  19.360001  19.980000  19.350000  19.860001  19.114916  7094500"
      ]
     },
     "execution_count": 2,
     "metadata": {},
     "output_type": "execute_result"
    }
   ],
   "source": [
    "df = pd.read_csv(\"NVDA.csv\")\n",
    "df.head(5)"
   ]
  },
  {
   "cell_type": "markdown",
   "metadata": {},
   "source": [
    "### Initial data analysis"
   ]
  },
  {
   "cell_type": "code",
   "execution_count": 3,
   "metadata": {},
   "outputs": [
    {
     "name": "stdout",
     "output_type": "stream",
     "text": [
      "<class 'pandas.core.frame.DataFrame'>\n",
      "RangeIndex: 1583 entries, 0 to 1582\n",
      "Data columns (total 7 columns):\n",
      " #   Column     Non-Null Count  Dtype  \n",
      "---  ------     --------------  -----  \n",
      " 0   Date       1583 non-null   object \n",
      " 1   Open       1583 non-null   float64\n",
      " 2   High       1583 non-null   float64\n",
      " 3   Low        1583 non-null   float64\n",
      " 4   Close      1583 non-null   float64\n",
      " 5   Adj Close  1583 non-null   float64\n",
      " 6   Volume     1583 non-null   int64  \n",
      "dtypes: float64(5), int64(1), object(1)\n",
      "memory usage: 86.7+ KB\n"
     ]
    }
   ],
   "source": [
    "#Type of atrributes\n",
    "df.info()"
   ]
  },
  {
   "cell_type": "code",
   "execution_count": 4,
   "metadata": {},
   "outputs": [
    {
     "data": {
      "text/plain": [
       "Date         0\n",
       "Open         0\n",
       "High         0\n",
       "Low          0\n",
       "Close        0\n",
       "Adj Close    0\n",
       "Volume       0\n",
       "dtype: int64"
      ]
     },
     "execution_count": 4,
     "metadata": {},
     "output_type": "execute_result"
    }
   ],
   "source": [
    "#Check data NaN\n",
    "df.isnull().sum()"
   ]
  },
  {
   "cell_type": "code",
   "execution_count": 5,
   "metadata": {},
   "outputs": [
    {
     "data": {
      "text/plain": [
       "Date         1583\n",
       "Open         1583\n",
       "High         1583\n",
       "Low          1583\n",
       "Close        1583\n",
       "Adj Close    1583\n",
       "Volume       1583\n",
       "dtype: int64"
      ]
     },
     "execution_count": 5,
     "metadata": {},
     "output_type": "execute_result"
    }
   ],
   "source": [
    "df.notnull().sum()"
   ]
  },
  {
   "cell_type": "code",
   "execution_count": 6,
   "metadata": {},
   "outputs": [
    {
     "data": {
      "text/plain": [
       "0"
      ]
     },
     "execution_count": 6,
     "metadata": {},
     "output_type": "execute_result"
    }
   ],
   "source": [
    "#Check duplicates\n",
    "df.duplicated().sum()"
   ]
  },
  {
   "cell_type": "code",
   "execution_count": 7,
   "metadata": {},
   "outputs": [
    {
     "data": {
      "text/html": [
       "<div>\n",
       "<style scoped>\n",
       "    .dataframe tbody tr th:only-of-type {\n",
       "        vertical-align: middle;\n",
       "    }\n",
       "\n",
       "    .dataframe tbody tr th {\n",
       "        vertical-align: top;\n",
       "    }\n",
       "\n",
       "    .dataframe thead th {\n",
       "        text-align: right;\n",
       "    }\n",
       "</style>\n",
       "<table border=\"1\" class=\"dataframe\">\n",
       "  <thead>\n",
       "    <tr style=\"text-align: right;\">\n",
       "      <th></th>\n",
       "      <th>Open</th>\n",
       "      <th>High</th>\n",
       "      <th>Low</th>\n",
       "      <th>Close</th>\n",
       "      <th>Adj Close</th>\n",
       "      <th>Volume</th>\n",
       "    </tr>\n",
       "  </thead>\n",
       "  <tbody>\n",
       "    <tr>\n",
       "      <th>count</th>\n",
       "      <td>1583.000000</td>\n",
       "      <td>1583.000000</td>\n",
       "      <td>1583.000000</td>\n",
       "      <td>1583.000000</td>\n",
       "      <td>1583.000000</td>\n",
       "      <td>1.583000e+03</td>\n",
       "    </tr>\n",
       "    <tr>\n",
       "      <th>mean</th>\n",
       "      <td>188.771927</td>\n",
       "      <td>191.773386</td>\n",
       "      <td>185.518111</td>\n",
       "      <td>188.783323</td>\n",
       "      <td>187.913193</td>\n",
       "      <td>1.201784e+07</td>\n",
       "    </tr>\n",
       "    <tr>\n",
       "      <th>std</th>\n",
       "      <td>152.840415</td>\n",
       "      <td>155.290531</td>\n",
       "      <td>150.006767</td>\n",
       "      <td>152.758800</td>\n",
       "      <td>152.919462</td>\n",
       "      <td>7.239125e+06</td>\n",
       "    </tr>\n",
       "    <tr>\n",
       "      <th>min</th>\n",
       "      <td>19.250000</td>\n",
       "      <td>19.500000</td>\n",
       "      <td>18.940001</td>\n",
       "      <td>19.139999</td>\n",
       "      <td>18.421932</td>\n",
       "      <td>1.311200e+06</td>\n",
       "    </tr>\n",
       "    <tr>\n",
       "      <th>25%</th>\n",
       "      <td>56.289999</td>\n",
       "      <td>56.974998</td>\n",
       "      <td>55.690000</td>\n",
       "      <td>56.185000</td>\n",
       "      <td>55.317606</td>\n",
       "      <td>7.461150e+06</td>\n",
       "    </tr>\n",
       "    <tr>\n",
       "      <th>50%</th>\n",
       "      <td>166.169998</td>\n",
       "      <td>168.169998</td>\n",
       "      <td>163.580002</td>\n",
       "      <td>165.559998</td>\n",
       "      <td>164.319916</td>\n",
       "      <td>1.006880e+07</td>\n",
       "    </tr>\n",
       "    <tr>\n",
       "      <th>75%</th>\n",
       "      <td>247.769996</td>\n",
       "      <td>250.750000</td>\n",
       "      <td>243.819999</td>\n",
       "      <td>247.430001</td>\n",
       "      <td>245.807083</td>\n",
       "      <td>1.455370e+07</td>\n",
       "    </tr>\n",
       "    <tr>\n",
       "      <th>max</th>\n",
       "      <td>642.119995</td>\n",
       "      <td>648.570007</td>\n",
       "      <td>634.609985</td>\n",
       "      <td>645.489990</td>\n",
       "      <td>645.489990</td>\n",
       "      <td>9.232320e+07</td>\n",
       "    </tr>\n",
       "  </tbody>\n",
       "</table>\n",
       "</div>"
      ],
      "text/plain": [
       "              Open         High          Low        Close    Adj Close  \\\n",
       "count  1583.000000  1583.000000  1583.000000  1583.000000  1583.000000   \n",
       "mean    188.771927   191.773386   185.518111   188.783323   187.913193   \n",
       "std     152.840415   155.290531   150.006767   152.758800   152.919462   \n",
       "min      19.250000    19.500000    18.940001    19.139999    18.421932   \n",
       "25%      56.289999    56.974998    55.690000    56.185000    55.317606   \n",
       "50%     166.169998   168.169998   163.580002   165.559998   164.319916   \n",
       "75%     247.769996   250.750000   243.819999   247.430001   245.807083   \n",
       "max     642.119995   648.570007   634.609985   645.489990   645.489990   \n",
       "\n",
       "             Volume  \n",
       "count  1.583000e+03  \n",
       "mean   1.201784e+07  \n",
       "std    7.239125e+06  \n",
       "min    1.311200e+06  \n",
       "25%    7.461150e+06  \n",
       "50%    1.006880e+07  \n",
       "75%    1.455370e+07  \n",
       "max    9.232320e+07  "
      ]
     },
     "execution_count": 7,
     "metadata": {},
     "output_type": "execute_result"
    }
   ],
   "source": [
    "#Statistical indicators\n",
    "df.describe()"
   ]
  },
  {
   "cell_type": "markdown",
   "metadata": {},
   "source": [
    "### Verification of cross-correlation in the data"
   ]
  },
  {
   "cell_type": "code",
   "execution_count": 8,
   "metadata": {},
   "outputs": [
    {
     "data": {
      "image/png": "[encoded data removed]",
      "text/plain": [
       "<Figure size 504x504 with 1 Axes>"
      ]
     },
     "metadata": {
      "needs_background": "light"
     },
     "output_type": "display_data"
    }
   ],
   "source": [
    "plt.figure(figsize=(7, 7))\n",
    "lag_plot(df['Open'], lag=3)\n",
    "plt.title('Autocorrelation plot with lag = 3 for Stock')\n",
    "plt.show()"
   ]
  },
  {
   "cell_type": "markdown",
   "metadata": {},
   "source": [
    "There is auto-correlation in the data so the ARIMA model is good for this data"
   ]
  },
  {
   "cell_type": "markdown",
   "metadata": {},
   "source": [
    "### Plot the stock price"
   ]
  },
  {
   "cell_type": "code",
   "execution_count": 13,
   "metadata": {},
   "outputs": [
    {
     "data": {
      "image/png": "[encoded data removed]",
      "text/plain": [
       "<Figure size 1440x720 with 1 Axes>"
      ]
     },
     "metadata": {
      "needs_background": "light"
     },
     "output_type": "display_data"
    }
   ],
   "source": [
    "plt.figure(figsize=(20, 10))\n",
    "plt.plot(df[\"Date\"], df[\"Close\"])\n",
    "plt.xticks(np.arange(0, 1583, 150), df['Date'][0:1583:150])\n",
    "plt.title(\"Stock price\")\n",
    "plt.xlabel(\"Time\")\n",
    "plt.ylabel(\"Price\")\n",
    "plt.show()"
   ]
  },
  {
   "cell_type": "code",
   "execution_count": null,
   "metadata": {},
   "outputs": [],
   "source": []
  }
 ],
 "metadata": {
  "kernelspec": {
   "display_name": "Python 3",
   "language": "python",
   "name": "python3"
  },
  "language_info": {
   "codemirror_mode": {
    "name": "ipython",
    "version": 3
   },
   "file_extension": ".py",
   "mimetype": "text/x-python",
   "name": "python",
   "nbconvert_exporter": "python",
   "pygments_lexer": "ipython3",
   "version": "3.8.3"
  }
 },
 "nbformat": 4,
 "nbformat_minor": 4
}
